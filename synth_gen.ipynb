{
 "cells": [
  {
   "cell_type": "code",
   "execution_count": 1,
   "id": "e75a38c7",
   "metadata": {},
   "outputs": [],
   "source": [
    "import numpy as np\n",
    "import matplotlib.pyplot as plt\n",
    "from receptive_field_filter import *\n",
    "\n",
    "num_neurons = 5\n",
    "image_size = (16, 16)\n",
    "\n",
    "base_rate = 2.0  # Base firing rate in Hz\n",
    "gain = 1.0      # Gain factor for nonlinearity\n",
    "bias = 0.0       # Bias term for nonlinearity\n",
    "dt = 0.003        # Time bin size in seconds (3 ms)\n",
    "random_seed_stim = 48691321\n",
    "\n",
    "duration_rec = 6_000 # Duration of recording in seconds\n",
    "pattern_duration = 0.009 # Duration of each pattern in seconds\n",
    "# pattern duration should be prefearably a multiple of dt\n",
    "n_show_pattern = np.ceil(pattern_duration / dt).astype(int)\n",
    "n_patter_rec = np.ceil(duration_rec / pattern_duration).astype(int)"
   ]
  },
  {
   "cell_type": "markdown",
   "id": "d8b5cb31",
   "metadata": {},
   "source": [
    "# Gauss"
   ]
  },
  {
   "cell_type": "code",
   "execution_count": 2,
   "id": "f4bf50d6",
   "metadata": {},
   "outputs": [
    {
     "name": "stdout",
     "output_type": "stream",
     "text": [
      "(2000001, 16, 16)\n"
     ]
    }
   ],
   "source": [
    "rng_stimulus = np.random.default_rng(random_seed_stim)\n",
    "# stimulus = rng_stimulus.random((n_patter_rec, image_size[0], image_size[1]))\n",
    "stimulus = rng_stimulus.integers(0, 2, (n_patter_rec, image_size[0], image_size[1]))\n",
    "stimulus = 2 * stimulus - 1\n",
    "# stimulus = rng_stimulus.uniform(0, 1, (n_patter_rec, image_size[0], image_size[1]))\n",
    "\n",
    "stimulus = np.repeat(stimulus, n_show_pattern, axis=0)\n",
    "assert stimulus.shape == (n_patter_rec*n_show_pattern, image_size[0], image_size[1])\n",
    "print(stimulus.shape)\n",
    "\n",
    "filter = gaussian(size=16, center=(8, 8), amplitude=1.0, sigma=1.0)\n",
    "stimulus_filtered = stimulus * filter\n",
    "assert np.array_equal(stimulus_filtered[0], stimulus[0] * filter)\n",
    "stimulus_filtered.shape\n",
    "\n",
    "stimulus_filtered_flat = stimulus_filtered.reshape(stimulus_filtered.shape[0], -1)\n",
    "linear_response = stimulus_filtered_flat @ filter.flatten().T\n",
    "assert linear_response.shape == (n_patter_rec*n_show_pattern,)\n",
    "linear_response.shape\n",
    "\n",
    "nl_firing_rate = base_rate * np.exp(gain * linear_response + bias)\n",
    "\n",
    "\n",
    "spike_probs = nl_firing_rate * dt\n",
    "spike_train = rng_stimulus.random(spike_probs.shape) < spike_probs\n",
    "# spike_times_binned = spike_train.astype(int) * time_ticks\n",
    "\n",
    "time_ticks = np.linspace(0.001, duration_rec, spike_train.shape[0], endpoint=False)\n",
    "# not starting directly at 0, as this would be unrealistic in real experiments\n",
    "spike_times = time_ticks[spike_train]\n",
    "\n",
    "np.save('stimulus_gauss_1.npy', stimulus)\n",
    "np.save('filter_gauss_1.npy', filter)\n",
    "np.save('spike_train_gauss_1.npy', spike_train)"
   ]
  },
  {
   "cell_type": "markdown",
   "id": "dd56955c",
   "metadata": {},
   "source": [
    "# Ricker"
   ]
  },
  {
   "cell_type": "code",
   "execution_count": 3,
   "id": "e3a8af6e",
   "metadata": {},
   "outputs": [],
   "source": [
    "# image_size = (16, 16)\n",
    "\n",
    "# base_rate = 1.0  # Base firing rate in Hz\n",
    "# gain = 1.0      # Gain factor for nonlinearity\n",
    "# bias = 0.0       # Bias term for nonlinearity\n",
    "# dt = 0.003        # Time bin size in seconds (3 ms)\n",
    "# random_seed_stim = 897465132\n",
    "\n",
    "# duration_rec = 3_000 # Duration of recording in seconds\n",
    "# pattern_duration = 0.009 # Duration of each pattern in seconds\n",
    "# # pattern duration should be prefearably a multiple of dt\n",
    "# n_show_pattern = np.ceil(pattern_duration / dt).astype(int)\n",
    "# n_patter_rec = np.ceil(duration_rec / pattern_duration).astype(int)"
   ]
  },
  {
   "cell_type": "code",
   "execution_count": 4,
   "id": "6159f96b",
   "metadata": {},
   "outputs": [],
   "source": [
    "rng_stimulus = np.random.default_rng(random_seed_stim)\n",
    "stimulus = rng_stimulus.integers(0, 2, (n_patter_rec, image_size[0], image_size[1]))\n",
    "stimulus = 2 * stimulus - 1\n",
    "# stimulus = rng_stimulus.uniform(0, 1, (n_patter_rec, image_size[0], image_size[1]))\n",
    "stimulus = np.repeat(stimulus, n_show_pattern, axis=0)\n",
    "filter = ricker_wavelet(size=16, center=(14, 8), amplitude=3.0, sigma=0.99)\n",
    "stimulus_filtered = stimulus * filter\n",
    "\n",
    "stimulus_filtered_flat = stimulus_filtered.reshape(stimulus_filtered.shape[0], -1)\n",
    "linear_response = stimulus_filtered_flat @ filter.flatten().T\n",
    "nl_firing_rate = base_rate * np.exp(gain * linear_response + bias)\n",
    "\n",
    "spike_probs = nl_firing_rate * dt\n",
    "spike_train = rng_stimulus.random(spike_probs.shape) < spike_probs\n",
    "time_ticks = np.linspace(0.001, duration_rec, spike_train.shape[0], endpoint=False)\n",
    "spike_times = time_ticks[spike_train]\n",
    "\n",
    "np.save('stimulus_ricker_1.npy', stimulus)\n",
    "np.save('filter_ricker_1.npy', filter)\n",
    "np.save('spike_train_ricker_1.npy', spike_train)"
   ]
  },
  {
   "cell_type": "markdown",
   "id": "4aa9f150",
   "metadata": {},
   "source": [
    "# Gabor"
   ]
  },
  {
   "cell_type": "code",
   "execution_count": 5,
   "id": "03a05caf",
   "metadata": {},
   "outputs": [],
   "source": [
    "# image_size = (16, 16)\n",
    "\n",
    "# base_rate = 5.0  # Base firing rate in Hz\n",
    "# gain = 1.0      # Gain factor for nonlinearity\n",
    "# bias = 0.0       # Bias term for nonlinearity\n",
    "# dt = 0.003        # Time bin size in seconds (3 ms)\n",
    "# random_seed_stim = 78465132\n",
    "\n",
    "# duration_rec = 300 # Duration of recording in seconds\n",
    "# # duration_rec = 3_000 # Duration of recording in seconds\n",
    "\n",
    "# pattern_duration = 0.009 # Duration of each pattern in seconds\n",
    "# # pattern duration should be prefearably a multiple of dt\n",
    "# n_show_pattern = np.ceil(pattern_duration / dt).astype(int)\n",
    "# n_patter_rec = np.ceil(duration_rec / pattern_duration).astype(int)"
   ]
  },
  {
   "cell_type": "code",
   "execution_count": 6,
   "id": "374f661d",
   "metadata": {},
   "outputs": [],
   "source": [
    "rng_stimulus = np.random.default_rng(random_seed_stim)\n",
    "stimulus = rng_stimulus.integers(0, 2, (n_patter_rec, image_size[0], image_size[1]))\n",
    "stimulus = 2 * stimulus - 1\n",
    "# stimulus = rng_stimulus.uniform(0, 1, (n_patter_rec, image_size[0], image_size[1]))\n",
    "stimulus = np.repeat(stimulus, n_show_pattern, axis=0)\n",
    "\n",
    "filter = gabor(size=16, center=(6, 9), amplitude=2.0,\n",
    "               sigma=2.0, theta=-np.pi/6, frequency=0.1, phase=0\n",
    "        )\n",
    "\n",
    "stimulus_filtered = stimulus * filter\n",
    "\n",
    "stimulus_filtered_flat = stimulus_filtered.reshape(stimulus_filtered.shape[0], -1)\n",
    "linear_response = stimulus_filtered_flat @ filter.flatten().T\n",
    "nl_firing_rate = base_rate * np.exp(gain * linear_response + bias)\n",
    "\n",
    "spike_probs = nl_firing_rate * dt\n",
    "spike_train = rng_stimulus.random(spike_probs.shape) < spike_probs\n",
    "time_ticks = np.linspace(0.001, duration_rec, spike_train.shape[0], endpoint=False)\n",
    "spike_times = time_ticks[spike_train]\n",
    "\n",
    "np.save('stimulus_gabor_1.npy', stimulus)\n",
    "np.save('filter_gabor_1.npy', filter)\n",
    "np.save('spike_train_gabor_1.npy', spike_train)"
   ]
  },
  {
   "cell_type": "code",
   "execution_count": null,
   "id": "40c889aa",
   "metadata": {},
   "outputs": [],
   "source": []
  }
 ],
 "metadata": {
  "kernelspec": {
   "display_name": "base",
   "language": "python",
   "name": "python3"
  },
  "language_info": {
   "codemirror_mode": {
    "name": "ipython",
    "version": 3
   },
   "file_extension": ".py",
   "mimetype": "text/x-python",
   "name": "python",
   "nbconvert_exporter": "python",
   "pygments_lexer": "ipython3",
   "version": "3.12.7"
  }
 },
 "nbformat": 4,
 "nbformat_minor": 5
}
